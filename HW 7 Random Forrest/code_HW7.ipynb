{
 "cells": [
  {
   "cell_type": "code",
   "execution_count": 1,
   "metadata": {},
   "outputs": [
    {
     "name": "stderr",
     "output_type": "stream",
     "text": [
      "C:\\ProgramData\\Anaconda3\\lib\\site-packages\\scipy\\__init__.py:155: UserWarning: A NumPy version >=1.18.5 and <1.25.0 is required for this version of SciPy (detected version 1.26.1\n",
      "  warnings.warn(f\"A NumPy version >={np_minversion} and <{np_maxversion}\"\n"
     ]
    }
   ],
   "source": [
    "import pandas as pd\n",
    "import numpy as np\n",
    "from sklearn.model_selection import train_test_split\n",
    "from sklearn.preprocessing import MinMaxScaler\n",
    "from sklearn.metrics import mean_squared_error\n",
    "from sklearn.ensemble import RandomForestClassifier\n",
    "from sklearn.metrics import accuracy_score"
   ]
  },
  {
   "cell_type": "code",
   "execution_count": 2,
   "metadata": {},
   "outputs": [],
   "source": [
    "# PART 1\n",
    "# Loading the dataset\n",
    "df_original = pd.read_csv(\"31-40.csv\") "
   ]
  },
  {
   "cell_type": "code",
   "execution_count": 3,
   "metadata": {},
   "outputs": [],
   "source": [
    "# Converting 'cit_2017' to integer type\n",
    "df_original[\"cit_2017\"] = df_original[\"cit_2017\"].astype(int)"
   ]
  },
  {
   "cell_type": "code",
   "execution_count": 4,
   "metadata": {},
   "outputs": [],
   "source": [
    "# Encoding the 'Label' based on the ratio of 'cit_2022' to 'cit_2021'\n",
    "# Low - 0, Medium - 1, High - 2\n",
    "label_values = []\n",
    "for i in range(len(df_original)):\n",
    "    value_ratio  = df_original['cit_2022'][i]/df_original['cit_2021'][i]\n",
    "    if value_ratio  < 1.05:\n",
    "        label_values.append(0)\n",
    "    elif value_ratio  > 1.06 and value_ratio  < 1.15:\n",
    "        label_values.append(1)\n",
    "    else:\n",
    "        label_values.append(2)\n",
    "\n",
    "df_original['Label'] = label_values\n",
    "\n"
   ]
  },
  {
   "cell_type": "code",
   "execution_count": 5,
   "metadata": {},
   "outputs": [],
   "source": [
    "# Extracting relevant features and labels\n",
    "data = df_original[['cit_2017', 'cit_2018', 'cit_2019', 'cit_2020', 'cit_2021','cit_2022']].copy()\n",
    "label = df_original['Label'].copy()"
   ]
  },
  {
   "cell_type": "code",
   "execution_count": 6,
   "metadata": {},
   "outputs": [],
   "source": [
    "# Splitting the dataset into training and testing sets (80-20)\n",
    "X_train, X_test, Y_train, Y_test = train_test_split(data, label, test_size=0.2, random_state=9)\n",
    "\n",
    "# Scaling the features using Min-Max Scaler\n",
    "scaler_x = MinMaxScaler()\n",
    "X_train_scaled = scaler_x.fit_transform(X_train)\n",
    "X_test_scaled = scaler_x.transform(X_test)  "
   ]
  },
  {
   "cell_type": "code",
   "execution_count": 7,
   "metadata": {},
   "outputs": [
    {
     "data": {
      "text/plain": [
       "RandomForestClassifier()"
      ]
     },
     "execution_count": 7,
     "metadata": {},
     "output_type": "execute_result"
    }
   ],
   "source": [
    "# Initializing and training the Random Forest Model\n",
    "rf_model = RandomForestClassifier()\n",
    "rf_model.fit(X_train_scaled, Y_train)\n"
   ]
  },
  {
   "cell_type": "code",
   "execution_count": 8,
   "metadata": {},
   "outputs": [],
   "source": [
    "# Making predictions on the test set\n",
    "Y_pred = rf_model.predict(X_test_scaled)\n"
   ]
  },
  {
   "cell_type": "code",
   "execution_count": 9,
   "metadata": {},
   "outputs": [
    {
     "name": "stdout",
     "output_type": "stream",
     "text": [
      "Model Accuracy with 06 features: 0.65\n"
     ]
    }
   ],
   "source": [
    "# Evaluating the model's accuracy\n",
    "accuracy = accuracy_score(Y_test, Y_pred)\n",
    "\n",
    "print(f\"Model Accuracy with 06 features: {accuracy}\")"
   ]
  },
  {
   "cell_type": "code",
   "execution_count": null,
   "metadata": {},
   "outputs": [],
   "source": [
    "# PART 2"
   ]
  },
  {
   "cell_type": "code",
   "execution_count": 15,
   "metadata": {},
   "outputs": [
    {
     "data": {
      "text/html": [
       "<div>\n",
       "<style scoped>\n",
       "    .dataframe tbody tr th:only-of-type {\n",
       "        vertical-align: middle;\n",
       "    }\n",
       "\n",
       "    .dataframe tbody tr th {\n",
       "        vertical-align: top;\n",
       "    }\n",
       "\n",
       "    .dataframe thead th {\n",
       "        text-align: right;\n",
       "    }\n",
       "</style>\n",
       "<table border=\"1\" class=\"dataframe\">\n",
       "  <thead>\n",
       "    <tr style=\"text-align: right;\">\n",
       "      <th></th>\n",
       "      <th>cit_2017</th>\n",
       "      <th>cit_2018</th>\n",
       "      <th>cit_2019</th>\n",
       "      <th>cit_2020</th>\n",
       "      <th>cit_2021</th>\n",
       "      <th>cit_2022</th>\n",
       "      <th>new_cit_2017</th>\n",
       "      <th>new_cit_2018</th>\n",
       "      <th>new_cit_2019</th>\n",
       "      <th>new_cit_2020</th>\n",
       "      <th>new_cit_2021</th>\n",
       "    </tr>\n",
       "  </thead>\n",
       "  <tbody>\n",
       "    <tr>\n",
       "      <th>0</th>\n",
       "      <td>7</td>\n",
       "      <td>22</td>\n",
       "      <td>51</td>\n",
       "      <td>70</td>\n",
       "      <td>108</td>\n",
       "      <td>137</td>\n",
       "      <td>2.143</td>\n",
       "      <td>1.318</td>\n",
       "      <td>0.373</td>\n",
       "      <td>0.543</td>\n",
       "      <td>0.269</td>\n",
       "    </tr>\n",
       "    <tr>\n",
       "      <th>1</th>\n",
       "      <td>3</td>\n",
       "      <td>7</td>\n",
       "      <td>15</td>\n",
       "      <td>97</td>\n",
       "      <td>119</td>\n",
       "      <td>133</td>\n",
       "      <td>1.333</td>\n",
       "      <td>1.143</td>\n",
       "      <td>5.467</td>\n",
       "      <td>0.227</td>\n",
       "      <td>0.118</td>\n",
       "    </tr>\n",
       "    <tr>\n",
       "      <th>2</th>\n",
       "      <td>939</td>\n",
       "      <td>888</td>\n",
       "      <td>794</td>\n",
       "      <td>843</td>\n",
       "      <td>840</td>\n",
       "      <td>755</td>\n",
       "      <td>-0.054</td>\n",
       "      <td>-0.106</td>\n",
       "      <td>0.062</td>\n",
       "      <td>-0.004</td>\n",
       "      <td>-0.101</td>\n",
       "    </tr>\n",
       "    <tr>\n",
       "      <th>3</th>\n",
       "      <td>46</td>\n",
       "      <td>76</td>\n",
       "      <td>75</td>\n",
       "      <td>67</td>\n",
       "      <td>59</td>\n",
       "      <td>58</td>\n",
       "      <td>0.652</td>\n",
       "      <td>-0.013</td>\n",
       "      <td>-0.107</td>\n",
       "      <td>-0.119</td>\n",
       "      <td>-0.017</td>\n",
       "    </tr>\n",
       "    <tr>\n",
       "      <th>4</th>\n",
       "      <td>129</td>\n",
       "      <td>151</td>\n",
       "      <td>108</td>\n",
       "      <td>95</td>\n",
       "      <td>85</td>\n",
       "      <td>85</td>\n",
       "      <td>0.171</td>\n",
       "      <td>-0.285</td>\n",
       "      <td>-0.120</td>\n",
       "      <td>-0.105</td>\n",
       "      <td>0.000</td>\n",
       "    </tr>\n",
       "    <tr>\n",
       "      <th>...</th>\n",
       "      <td>...</td>\n",
       "      <td>...</td>\n",
       "      <td>...</td>\n",
       "      <td>...</td>\n",
       "      <td>...</td>\n",
       "      <td>...</td>\n",
       "      <td>...</td>\n",
       "      <td>...</td>\n",
       "      <td>...</td>\n",
       "      <td>...</td>\n",
       "      <td>...</td>\n",
       "    </tr>\n",
       "    <tr>\n",
       "      <th>95</th>\n",
       "      <td>48</td>\n",
       "      <td>54</td>\n",
       "      <td>40</td>\n",
       "      <td>45</td>\n",
       "      <td>43</td>\n",
       "      <td>40</td>\n",
       "      <td>0.125</td>\n",
       "      <td>-0.259</td>\n",
       "      <td>0.125</td>\n",
       "      <td>-0.044</td>\n",
       "      <td>-0.070</td>\n",
       "    </tr>\n",
       "    <tr>\n",
       "      <th>96</th>\n",
       "      <td>532</td>\n",
       "      <td>535</td>\n",
       "      <td>497</td>\n",
       "      <td>547</td>\n",
       "      <td>504</td>\n",
       "      <td>505</td>\n",
       "      <td>0.006</td>\n",
       "      <td>-0.071</td>\n",
       "      <td>0.101</td>\n",
       "      <td>-0.079</td>\n",
       "      <td>0.002</td>\n",
       "    </tr>\n",
       "    <tr>\n",
       "      <th>97</th>\n",
       "      <td>36</td>\n",
       "      <td>52</td>\n",
       "      <td>57</td>\n",
       "      <td>82</td>\n",
       "      <td>152</td>\n",
       "      <td>222</td>\n",
       "      <td>0.444</td>\n",
       "      <td>0.096</td>\n",
       "      <td>0.439</td>\n",
       "      <td>0.854</td>\n",
       "      <td>0.461</td>\n",
       "    </tr>\n",
       "    <tr>\n",
       "      <th>98</th>\n",
       "      <td>242</td>\n",
       "      <td>299</td>\n",
       "      <td>346</td>\n",
       "      <td>357</td>\n",
       "      <td>423</td>\n",
       "      <td>496</td>\n",
       "      <td>0.236</td>\n",
       "      <td>0.157</td>\n",
       "      <td>0.032</td>\n",
       "      <td>0.185</td>\n",
       "      <td>0.173</td>\n",
       "    </tr>\n",
       "    <tr>\n",
       "      <th>99</th>\n",
       "      <td>7</td>\n",
       "      <td>10</td>\n",
       "      <td>36</td>\n",
       "      <td>81</td>\n",
       "      <td>127</td>\n",
       "      <td>147</td>\n",
       "      <td>0.429</td>\n",
       "      <td>2.600</td>\n",
       "      <td>1.250</td>\n",
       "      <td>0.568</td>\n",
       "      <td>0.157</td>\n",
       "    </tr>\n",
       "  </tbody>\n",
       "</table>\n",
       "<p>100 rows × 11 columns</p>\n",
       "</div>"
      ],
      "text/plain": [
       "    cit_2017  cit_2018  cit_2019  cit_2020  cit_2021  cit_2022  new_cit_2017  \\\n",
       "0          7        22        51        70       108       137         2.143   \n",
       "1          3         7        15        97       119       133         1.333   \n",
       "2        939       888       794       843       840       755        -0.054   \n",
       "3         46        76        75        67        59        58         0.652   \n",
       "4        129       151       108        95        85        85         0.171   \n",
       "..       ...       ...       ...       ...       ...       ...           ...   \n",
       "95        48        54        40        45        43        40         0.125   \n",
       "96       532       535       497       547       504       505         0.006   \n",
       "97        36        52        57        82       152       222         0.444   \n",
       "98       242       299       346       357       423       496         0.236   \n",
       "99         7        10        36        81       127       147         0.429   \n",
       "\n",
       "    new_cit_2018  new_cit_2019  new_cit_2020  new_cit_2021  \n",
       "0          1.318         0.373         0.543         0.269  \n",
       "1          1.143         5.467         0.227         0.118  \n",
       "2         -0.106         0.062        -0.004        -0.101  \n",
       "3         -0.013        -0.107        -0.119        -0.017  \n",
       "4         -0.285        -0.120        -0.105         0.000  \n",
       "..           ...           ...           ...           ...  \n",
       "95        -0.259         0.125        -0.044        -0.070  \n",
       "96        -0.071         0.101        -0.079         0.002  \n",
       "97         0.096         0.439         0.854         0.461  \n",
       "98         0.157         0.032         0.185         0.173  \n",
       "99         2.600         1.250         0.568         0.157  \n",
       "\n",
       "[100 rows x 11 columns]"
      ]
     },
     "execution_count": 15,
     "metadata": {},
     "output_type": "execute_result"
    }
   ],
   "source": [
    "\n",
    "# Creating a copy of the dataset for additional feature engineering\n",
    "big_data = data.copy()\n",
    "\n",
    "# Calculating and adding new features for each year\n",
    "for year in range(2017, 2022):\n",
    "    big_data[f'new_cit_{year}'] = ((df_original[f'cit_{year+1}'] - df_original[f'cit_{year}']) / df_original[f'cit_{year}']).round(3)\n",
    "\n",
    "# Handling infinite values and replacing NaNs with the median\n",
    "\n",
    "big_data.replace([np.inf, -np.inf], np.nan, inplace=True)   # Replacing infinity values with 'nan'\n",
    "big_data.fillna(big_data.median(), inplace=True)            # Replacing 'nan' with median values\n",
    "big_data"
   ]
  },
  {
   "cell_type": "code",
   "execution_count": 11,
   "metadata": {},
   "outputs": [],
   "source": [
    "\n",
    "# Splitting the dataset with new features\n",
    "X_train_big, X_test_big, Y_train_big, Y_test_big = train_test_split(big_data, label, test_size=0.2, random_state=9)\n",
    "\n",
    "# Scaling the features with new features\n",
    "scaler_x_big = MinMaxScaler()\n",
    "X_train_big_scaled = scaler_x_big.fit_transform(X_train_big)\n",
    "X_test_big_scaled = scaler_x_big.transform(X_test_big)\n",
    "\n"
   ]
  },
  {
   "cell_type": "code",
   "execution_count": 12,
   "metadata": {},
   "outputs": [
    {
     "data": {
      "text/plain": [
       "RandomForestClassifier()"
      ]
     },
     "execution_count": 12,
     "metadata": {},
     "output_type": "execute_result"
    }
   ],
   "source": [
    "# Initializing and training the Random Forest Model with new features\n",
    "rf_model_big = RandomForestClassifier()\n",
    "rf_model_big.fit(X_train_big_scaled, Y_train_big)\n",
    "\n"
   ]
  },
  {
   "cell_type": "code",
   "execution_count": 13,
   "metadata": {},
   "outputs": [],
   "source": [
    "# Making predictions on the test set with new features\n",
    "Y_pred_new = rf_model_big.predict(X_test_big_scaled)"
   ]
  },
  {
   "cell_type": "code",
   "execution_count": 14,
   "metadata": {},
   "outputs": [
    {
     "name": "stdout",
     "output_type": "stream",
     "text": [
      "Model Accuracy with 11 features: 1.0\n"
     ]
    }
   ],
   "source": [
    "# Evaluating the model's accuracy with new features\n",
    "accuracy_new = accuracy_score(Y_test_big, Y_pred_new)\n",
    "\n",
    "# Displaying the accuracy with 11 features\n",
    "print(f\"Model Accuracy with 11 features: {accuracy_new}\")"
   ]
  },
  {
   "cell_type": "code",
   "execution_count": null,
   "metadata": {},
   "outputs": [],
   "source": []
  }
 ],
 "metadata": {
  "kernelspec": {
   "display_name": "Python 3 (ipykernel)",
   "language": "python",
   "name": "python3"
  },
  "language_info": {
   "codemirror_mode": {
    "name": "ipython",
    "version": 3
   },
   "file_extension": ".py",
   "mimetype": "text/x-python",
   "name": "python",
   "nbconvert_exporter": "python",
   "pygments_lexer": "ipython3",
   "version": "3.9.13"
  }
 },
 "nbformat": 4,
 "nbformat_minor": 2
}
