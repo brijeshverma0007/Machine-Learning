{
 "cells": [
  {
   "cell_type": "code",
   "execution_count": 23,
   "metadata": {
    "_cell_guid": "b1076dfc-b9ad-4769-8c92-a6c4dae69d19",
    "_uuid": "8f2839f25d086af736a60e9eeb907d3b93b6e0e5",
    "execution": {
     "iopub.execute_input": "2023-11-02T05:49:05.506385Z",
     "iopub.status.busy": "2023-11-02T05:49:05.505948Z",
     "iopub.status.idle": "2023-11-02T05:49:10.684532Z",
     "shell.execute_reply": "2023-11-02T05:49:10.683067Z",
     "shell.execute_reply.started": "2023-11-02T05:49:05.506349Z"
    }
   },
   "outputs": [],
   "source": [
    "import numpy as np\n",
    "import pandas as pd\n",
    "from sklearn.model_selection import train_test_split\n",
    "from sklearn.preprocessing import MinMaxScaler\n",
    "from keras.models import Sequential\n",
    "from keras.layers import Dense\n",
    "from keras.optimizers import SGD\n",
    "from keras.optimizers import Adam,RMSprop,Nadam\n",
    "from keras.utils import to_categorical"
   ]
  },
  {
   "cell_type": "code",
   "execution_count": 24,
   "metadata": {
    "execution": {
     "iopub.execute_input": "2023-11-02T05:49:10.687359Z",
     "iopub.status.busy": "2023-11-02T05:49:10.686085Z",
     "iopub.status.idle": "2023-11-02T05:49:10.700116Z",
     "shell.execute_reply": "2023-11-02T05:49:10.697435Z",
     "shell.execute_reply.started": "2023-11-02T05:49:10.687299Z"
    }
   },
   "outputs": [],
   "source": [
    "# Load the dataset\n",
    "dataSet = pd.read_csv('31-40.csv')"
   ]
  },
  {
   "cell_type": "code",
   "execution_count": 25,
   "metadata": {
    "execution": {
     "iopub.execute_input": "2023-11-02T05:49:10.702996Z",
     "iopub.status.busy": "2023-11-02T05:49:10.702584Z",
     "iopub.status.idle": "2023-11-02T05:49:10.725859Z",
     "shell.execute_reply": "2023-11-02T05:49:10.724766Z",
     "shell.execute_reply.started": "2023-11-02T05:49:10.702961Z"
    }
   },
   "outputs": [
    {
     "data": {
      "text/plain": [
       "univ_rank         int64\n",
       "first_initial    object\n",
       "last_initial     object\n",
       "cit_2017          int32\n",
       "cit_2018          int64\n",
       "cit_2019          int64\n",
       "cit_2020          int64\n",
       "cit_2021          int64\n",
       "cit_2022          int64\n",
       "h_index           int64\n",
       "i_10_index        int64\n",
       "dtype: object"
      ]
     },
     "execution_count": 25,
     "metadata": {},
     "output_type": "execute_result"
    }
   ],
   "source": [
    "# Preprocess the dataset\n",
    "dataSet['cit_2017'] = dataSet['cit_2017'].astype(str).str.replace(',', '')\n",
    "dataSet['cit_2017'] = dataSet['cit_2017'].astype('int')\n",
    "dataSet.dtypes"
   ]
  },
  {
   "cell_type": "code",
   "execution_count": 26,
   "metadata": {
    "execution": {
     "iopub.execute_input": "2023-11-02T05:49:10.732661Z",
     "iopub.status.busy": "2023-11-02T05:49:10.732095Z",
     "iopub.status.idle": "2023-11-02T05:49:10.744708Z",
     "shell.execute_reply": "2023-11-02T05:49:10.742124Z",
     "shell.execute_reply.started": "2023-11-02T05:49:10.732618Z"
    }
   },
   "outputs": [],
   "source": [
    "# Selecting numeric data from the dataSet while excluding specific columns\n",
    "numeric_data = dataSet.select_dtypes(include=['number'])\n",
    "filtered_data = numeric_data.drop(['h_index', 'i_10_index', 'univ_rank'], axis=1)\n",
    "\n",
    "# Calculate and add the 'Ratio' column\n",
    "filtered_data['Ratio'] = (filtered_data['cit_2022'] / filtered_data['cit_2021']).round(2)\n"
   ]
  },
  {
   "cell_type": "code",
   "execution_count": 27,
   "metadata": {
    "execution": {
     "iopub.execute_input": "2023-11-02T05:49:10.760138Z",
     "iopub.status.busy": "2023-11-02T05:49:10.759830Z",
     "iopub.status.idle": "2023-11-02T05:49:10.772460Z",
     "shell.execute_reply": "2023-11-02T05:49:10.770855Z",
     "shell.execute_reply.started": "2023-11-02T05:49:10.760114Z"
    }
   },
   "outputs": [],
   "source": [
    "# Define a function to classify a numerical value into categories\n",
    "def categorize_value(value):\n",
    "    if value < 1.05:\n",
    "        return 'Low'\n",
    "    elif 1.05 <= value <= 1.15:\n",
    "        return 'Medium'\n",
    "    else:\n",
    "        return 'High'\n",
    "\n",
    "# Apply the categorization function to a column in your dataset (e.g., 'Ratio')\n",
    "filtered_data['Ratio'] = filtered_data['Ratio'].apply(categorize_value)\n"
   ]
  },
  {
   "cell_type": "code",
   "execution_count": 28,
   "metadata": {
    "execution": {
     "iopub.execute_input": "2023-11-02T05:49:10.794611Z",
     "iopub.status.busy": "2023-11-02T05:49:10.794341Z",
     "iopub.status.idle": "2023-11-02T05:49:10.811651Z",
     "shell.execute_reply": "2023-11-02T05:49:10.809486Z",
     "shell.execute_reply.started": "2023-11-02T05:49:10.794587Z"
    }
   },
   "outputs": [],
   "source": [
    "# Extract features (X) and target labels (y)\n",
    "X=filtered_data.iloc[:,0:6]\n",
    "y= pd.DataFrame(filtered_data['Ratio'], columns = ['Ratio'])"
   ]
  },
  {
   "cell_type": "code",
   "execution_count": 29,
   "metadata": {
    "execution": {
     "iopub.execute_input": "2023-11-02T05:49:10.813291Z",
     "iopub.status.busy": "2023-11-02T05:49:10.812966Z",
     "iopub.status.idle": "2023-11-02T05:49:10.826863Z",
     "shell.execute_reply": "2023-11-02T05:49:10.825473Z",
     "shell.execute_reply.started": "2023-11-02T05:49:10.813262Z"
    }
   },
   "outputs": [],
   "source": [
    "# Define a label mapping for the target labels\n",
    "label_mapping = {'Low': 0, 'Medium': 1, 'High': 2}\n",
    "y['Ratio']= [label_mapping[label] for label in y['Ratio']]"
   ]
  },
  {
   "cell_type": "code",
   "execution_count": 30,
   "metadata": {
    "execution": {
     "iopub.execute_input": "2023-11-02T05:49:10.844511Z",
     "iopub.status.busy": "2023-11-02T05:49:10.843966Z",
     "iopub.status.idle": "2023-11-02T05:49:10.859726Z",
     "shell.execute_reply": "2023-11-02T05:49:10.857910Z",
     "shell.execute_reply.started": "2023-11-02T05:49:10.844467Z"
    }
   },
   "outputs": [],
   "source": [
    "# Scale the features using Min-Max scaling\n",
    "scaler = MinMaxScaler()\n",
    "X = scaler.fit_transform(X)"
   ]
  },
  {
   "cell_type": "code",
   "execution_count": 31,
   "metadata": {
    "execution": {
     "iopub.execute_input": "2023-11-02T05:49:10.863220Z",
     "iopub.status.busy": "2023-11-02T05:49:10.861283Z",
     "iopub.status.idle": "2023-11-02T05:49:10.874998Z",
     "shell.execute_reply": "2023-11-02T05:49:10.873444Z",
     "shell.execute_reply.started": "2023-11-02T05:49:10.863155Z"
    }
   },
   "outputs": [],
   "source": [
    "# Split the dataset into training and testing sets\n",
    "X_train, X_test, y_train, y_test = train_test_split(X, y, test_size=0.2, random_state=42)"
   ]
  },
  {
   "cell_type": "code",
   "execution_count": 32,
   "metadata": {
    "execution": {
     "iopub.execute_input": "2023-11-02T05:49:10.879459Z",
     "iopub.status.busy": "2023-11-02T05:49:10.878523Z",
     "iopub.status.idle": "2023-11-02T05:49:10.889911Z",
     "shell.execute_reply": "2023-11-02T05:49:10.888632Z",
     "shell.execute_reply.started": "2023-11-02T05:49:10.879414Z"
    }
   },
   "outputs": [],
   "source": [
    "# Convert target labels to categorical one-hot encoding\n",
    "y = to_categorical(y, num_classes=3)"
   ]
  },
  {
   "cell_type": "code",
   "execution_count": 33,
   "metadata": {
    "execution": {
     "iopub.execute_input": "2023-11-02T05:49:10.892552Z",
     "iopub.status.busy": "2023-11-02T05:49:10.891948Z",
     "iopub.status.idle": "2023-11-02T05:49:10.944655Z",
     "shell.execute_reply": "2023-11-02T05:49:10.943474Z",
     "shell.execute_reply.started": "2023-11-02T05:49:10.892525Z"
    }
   },
   "outputs": [],
   "source": [
    "# Create a Sequential model\n",
    "model = Sequential()"
   ]
  },
  {
   "cell_type": "code",
   "execution_count": 34,
   "metadata": {
    "execution": {
     "iopub.execute_input": "2023-11-02T05:49:10.946644Z",
     "iopub.status.busy": "2023-11-02T05:49:10.945931Z",
     "iopub.status.idle": "2023-11-02T05:49:10.997492Z",
     "shell.execute_reply": "2023-11-02T05:49:10.996125Z",
     "shell.execute_reply.started": "2023-11-02T05:49:10.946591Z"
    }
   },
   "outputs": [],
   "source": [
    "# Add input and hidden layers to the model\n",
    "model.add(Dense(6, input_dim=6, activation='relu'))\n",
    "model.add(Dense(6, activation='relu'))"
   ]
  },
  {
   "cell_type": "code",
   "execution_count": 35,
   "metadata": {
    "execution": {
     "iopub.execute_input": "2023-11-02T05:49:11.025904Z",
     "iopub.status.busy": "2023-11-02T05:49:11.024575Z",
     "iopub.status.idle": "2023-11-02T05:49:11.053833Z",
     "shell.execute_reply": "2023-11-02T05:49:11.052568Z",
     "shell.execute_reply.started": "2023-11-02T05:49:11.025841Z"
    }
   },
   "outputs": [],
   "source": [
    "# Add an output layer with three units (for the three categories) and 'softmax' activation\n",
    "model.add(Dense(3, activation='softmax'))\n"
   ]
  },
  {
   "cell_type": "code",
   "execution_count": 36,
   "metadata": {
    "execution": {
     "iopub.execute_input": "2023-11-02T05:49:11.055749Z",
     "iopub.status.busy": "2023-11-02T05:49:11.055420Z",
     "iopub.status.idle": "2023-11-02T05:49:11.078214Z",
     "shell.execute_reply": "2023-11-02T05:49:11.075405Z",
     "shell.execute_reply.started": "2023-11-02T05:49:11.055720Z"
    }
   },
   "outputs": [],
   "source": [
    "# Compile the model, specify loss function, optimizer, and evaluation metric\n",
    "model.compile(loss='mean_absolute_error', optimizer=Adam(learning_rate=0.1), metrics=['accuracy'])"
   ]
  },
  {
   "cell_type": "code",
   "execution_count": 37,
   "metadata": {
    "execution": {
     "iopub.execute_input": "2023-11-02T05:49:11.080740Z",
     "iopub.status.busy": "2023-11-02T05:49:11.079499Z",
     "iopub.status.idle": "2023-11-02T05:49:21.723846Z",
     "shell.execute_reply": "2023-11-02T05:49:21.723005Z",
     "shell.execute_reply.started": "2023-11-02T05:49:11.080707Z"
    }
   },
   "outputs": [
    {
     "name": "stdout",
     "output_type": "stream",
     "text": [
      "Epoch 1/100\n",
      "20/20 [==============================] - 1s 7ms/step - loss: 0.3852 - accuracy: 0.4500 - val_loss: 0.3667 - val_accuracy: 0.4500\n",
      "Epoch 2/100\n",
      "20/20 [==============================] - 0s 3ms/step - loss: 0.3250 - accuracy: 0.5125 - val_loss: 0.3667 - val_accuracy: 0.4500\n",
      "Epoch 3/100\n",
      "20/20 [==============================] - 0s 3ms/step - loss: 0.3250 - accuracy: 0.5125 - val_loss: 0.3667 - val_accuracy: 0.4500\n",
      "Epoch 4/100\n",
      "20/20 [==============================] - 0s 2ms/step - loss: 0.3250 - accuracy: 0.5125 - val_loss: 0.3667 - val_accuracy: 0.4500\n",
      "Epoch 5/100\n",
      "20/20 [==============================] - 0s 3ms/step - loss: 0.3250 - accuracy: 0.5125 - val_loss: 0.3667 - val_accuracy: 0.4500\n",
      "Epoch 6/100\n",
      "20/20 [==============================] - 0s 3ms/step - loss: 0.3250 - accuracy: 0.5125 - val_loss: 0.3667 - val_accuracy: 0.4500\n",
      "Epoch 7/100\n",
      "20/20 [==============================] - 0s 3ms/step - loss: 0.3250 - accuracy: 0.5125 - val_loss: 0.3667 - val_accuracy: 0.4500\n",
      "Epoch 8/100\n",
      "20/20 [==============================] - 0s 3ms/step - loss: 0.3250 - accuracy: 0.5125 - val_loss: 0.3667 - val_accuracy: 0.4500\n",
      "Epoch 9/100\n",
      "20/20 [==============================] - 0s 3ms/step - loss: 0.3250 - accuracy: 0.5125 - val_loss: 0.3667 - val_accuracy: 0.4500\n",
      "Epoch 10/100\n",
      "20/20 [==============================] - 0s 3ms/step - loss: 0.3250 - accuracy: 0.5125 - val_loss: 0.3667 - val_accuracy: 0.4500\n",
      "Epoch 11/100\n",
      "20/20 [==============================] - 0s 3ms/step - loss: 0.3250 - accuracy: 0.5125 - val_loss: 0.3667 - val_accuracy: 0.4500\n",
      "Epoch 12/100\n",
      "20/20 [==============================] - 0s 3ms/step - loss: 0.3250 - accuracy: 0.5125 - val_loss: 0.3667 - val_accuracy: 0.4500\n",
      "Epoch 13/100\n",
      "20/20 [==============================] - 0s 3ms/step - loss: 0.3250 - accuracy: 0.5125 - val_loss: 0.3667 - val_accuracy: 0.4500\n",
      "Epoch 14/100\n",
      "20/20 [==============================] - 0s 3ms/step - loss: 0.3250 - accuracy: 0.5125 - val_loss: 0.3667 - val_accuracy: 0.4500\n",
      "Epoch 15/100\n",
      "20/20 [==============================] - 0s 3ms/step - loss: 0.3250 - accuracy: 0.5125 - val_loss: 0.3667 - val_accuracy: 0.4500\n",
      "Epoch 16/100\n",
      "20/20 [==============================] - 0s 3ms/step - loss: 0.3250 - accuracy: 0.5125 - val_loss: 0.3667 - val_accuracy: 0.4500\n",
      "Epoch 17/100\n",
      "20/20 [==============================] - 0s 3ms/step - loss: 0.3250 - accuracy: 0.5125 - val_loss: 0.3667 - val_accuracy: 0.4500\n",
      "Epoch 18/100\n",
      "20/20 [==============================] - 0s 3ms/step - loss: 0.3250 - accuracy: 0.5125 - val_loss: 0.3667 - val_accuracy: 0.4500\n",
      "Epoch 19/100\n",
      "20/20 [==============================] - 0s 3ms/step - loss: 0.3250 - accuracy: 0.5125 - val_loss: 0.3667 - val_accuracy: 0.4500\n",
      "Epoch 20/100\n",
      "20/20 [==============================] - 0s 3ms/step - loss: 0.3250 - accuracy: 0.5125 - val_loss: 0.3667 - val_accuracy: 0.4500\n",
      "Epoch 21/100\n",
      "20/20 [==============================] - 0s 3ms/step - loss: 0.3250 - accuracy: 0.5125 - val_loss: 0.3667 - val_accuracy: 0.4500\n",
      "Epoch 22/100\n",
      "20/20 [==============================] - 0s 3ms/step - loss: 0.3250 - accuracy: 0.5125 - val_loss: 0.3667 - val_accuracy: 0.4500\n",
      "Epoch 23/100\n",
      "20/20 [==============================] - 0s 3ms/step - loss: 0.3250 - accuracy: 0.5125 - val_loss: 0.3667 - val_accuracy: 0.4500\n",
      "Epoch 24/100\n",
      "20/20 [==============================] - 0s 3ms/step - loss: 0.3250 - accuracy: 0.5125 - val_loss: 0.3667 - val_accuracy: 0.4500\n",
      "Epoch 25/100\n",
      "20/20 [==============================] - 0s 3ms/step - loss: 0.3250 - accuracy: 0.5125 - val_loss: 0.3667 - val_accuracy: 0.4500\n",
      "Epoch 26/100\n",
      "20/20 [==============================] - 0s 3ms/step - loss: 0.3250 - accuracy: 0.5125 - val_loss: 0.3667 - val_accuracy: 0.4500\n",
      "Epoch 27/100\n",
      "20/20 [==============================] - 0s 3ms/step - loss: 0.3250 - accuracy: 0.5125 - val_loss: 0.3667 - val_accuracy: 0.4500\n",
      "Epoch 28/100\n",
      "20/20 [==============================] - 0s 3ms/step - loss: 0.3250 - accuracy: 0.5125 - val_loss: 0.3667 - val_accuracy: 0.4500\n",
      "Epoch 29/100\n",
      "20/20 [==============================] - 0s 3ms/step - loss: 0.3250 - accuracy: 0.5125 - val_loss: 0.3667 - val_accuracy: 0.4500\n",
      "Epoch 30/100\n",
      "20/20 [==============================] - 0s 3ms/step - loss: 0.3250 - accuracy: 0.5125 - val_loss: 0.3667 - val_accuracy: 0.4500\n",
      "Epoch 31/100\n",
      "20/20 [==============================] - 0s 3ms/step - loss: 0.3250 - accuracy: 0.5125 - val_loss: 0.3667 - val_accuracy: 0.4500\n",
      "Epoch 32/100\n",
      "20/20 [==============================] - 0s 3ms/step - loss: 0.3250 - accuracy: 0.5125 - val_loss: 0.3667 - val_accuracy: 0.4500\n",
      "Epoch 33/100\n",
      "20/20 [==============================] - 0s 3ms/step - loss: 0.3250 - accuracy: 0.5125 - val_loss: 0.3667 - val_accuracy: 0.4500\n",
      "Epoch 34/100\n",
      "20/20 [==============================] - 0s 3ms/step - loss: 0.3250 - accuracy: 0.5125 - val_loss: 0.3667 - val_accuracy: 0.4500\n",
      "Epoch 35/100\n",
      "20/20 [==============================] - 0s 3ms/step - loss: 0.3250 - accuracy: 0.5125 - val_loss: 0.3667 - val_accuracy: 0.4500\n",
      "Epoch 36/100\n",
      "20/20 [==============================] - 0s 3ms/step - loss: 0.3250 - accuracy: 0.5125 - val_loss: 0.3667 - val_accuracy: 0.4500\n",
      "Epoch 37/100\n",
      "20/20 [==============================] - 0s 3ms/step - loss: 0.3250 - accuracy: 0.5125 - val_loss: 0.3667 - val_accuracy: 0.4500\n",
      "Epoch 38/100\n",
      "20/20 [==============================] - 0s 3ms/step - loss: 0.3250 - accuracy: 0.5125 - val_loss: 0.3667 - val_accuracy: 0.4500\n",
      "Epoch 39/100\n",
      "20/20 [==============================] - 0s 3ms/step - loss: 0.3250 - accuracy: 0.5125 - val_loss: 0.3667 - val_accuracy: 0.4500\n",
      "Epoch 40/100\n",
      "20/20 [==============================] - 0s 3ms/step - loss: 0.3250 - accuracy: 0.5125 - val_loss: 0.3667 - val_accuracy: 0.4500\n",
      "Epoch 41/100\n",
      "20/20 [==============================] - 0s 3ms/step - loss: 0.3250 - accuracy: 0.5125 - val_loss: 0.3667 - val_accuracy: 0.4500\n",
      "Epoch 42/100\n",
      "20/20 [==============================] - 0s 2ms/step - loss: 0.3250 - accuracy: 0.5125 - val_loss: 0.3667 - val_accuracy: 0.4500\n",
      "Epoch 43/100\n",
      "20/20 [==============================] - 0s 3ms/step - loss: 0.3250 - accuracy: 0.5125 - val_loss: 0.3667 - val_accuracy: 0.4500\n",
      "Epoch 44/100\n",
      "20/20 [==============================] - 0s 3ms/step - loss: 0.3250 - accuracy: 0.5125 - val_loss: 0.3667 - val_accuracy: 0.4500\n",
      "Epoch 45/100\n",
      "20/20 [==============================] - 0s 3ms/step - loss: 0.3250 - accuracy: 0.5125 - val_loss: 0.3667 - val_accuracy: 0.4500\n",
      "Epoch 46/100\n",
      "20/20 [==============================] - 0s 3ms/step - loss: 0.3250 - accuracy: 0.5125 - val_loss: 0.3667 - val_accuracy: 0.4500\n",
      "Epoch 47/100\n",
      "20/20 [==============================] - 0s 3ms/step - loss: 0.3250 - accuracy: 0.5125 - val_loss: 0.3667 - val_accuracy: 0.4500\n",
      "Epoch 48/100\n",
      "20/20 [==============================] - 0s 3ms/step - loss: 0.3250 - accuracy: 0.5125 - val_loss: 0.3667 - val_accuracy: 0.4500\n",
      "Epoch 49/100\n",
      "20/20 [==============================] - 0s 3ms/step - loss: 0.3250 - accuracy: 0.5125 - val_loss: 0.3667 - val_accuracy: 0.4500\n",
      "Epoch 50/100\n",
      "20/20 [==============================] - 0s 3ms/step - loss: 0.3250 - accuracy: 0.5125 - val_loss: 0.3667 - val_accuracy: 0.4500\n",
      "Epoch 51/100\n",
      "20/20 [==============================] - 0s 3ms/step - loss: 0.3250 - accuracy: 0.5125 - val_loss: 0.3667 - val_accuracy: 0.4500\n",
      "Epoch 52/100\n",
      "20/20 [==============================] - 0s 3ms/step - loss: 0.3250 - accuracy: 0.5125 - val_loss: 0.3667 - val_accuracy: 0.4500\n",
      "Epoch 53/100\n",
      "20/20 [==============================] - 0s 3ms/step - loss: 0.3250 - accuracy: 0.5125 - val_loss: 0.3667 - val_accuracy: 0.4500\n",
      "Epoch 54/100\n",
      "20/20 [==============================] - 0s 3ms/step - loss: 0.3250 - accuracy: 0.5125 - val_loss: 0.3667 - val_accuracy: 0.4500\n",
      "Epoch 55/100\n",
      "20/20 [==============================] - 0s 3ms/step - loss: 0.3250 - accuracy: 0.5125 - val_loss: 0.3667 - val_accuracy: 0.4500\n",
      "Epoch 56/100\n",
      "20/20 [==============================] - 0s 3ms/step - loss: 0.3250 - accuracy: 0.5125 - val_loss: 0.3667 - val_accuracy: 0.4500\n",
      "Epoch 57/100\n",
      "20/20 [==============================] - 0s 3ms/step - loss: 0.3250 - accuracy: 0.5125 - val_loss: 0.3667 - val_accuracy: 0.4500\n",
      "Epoch 58/100\n",
      "20/20 [==============================] - 0s 3ms/step - loss: 0.3250 - accuracy: 0.5125 - val_loss: 0.3667 - val_accuracy: 0.4500\n"
     ]
    },
    {
     "name": "stdout",
     "output_type": "stream",
     "text": [
      "Epoch 59/100\n",
      "20/20 [==============================] - 0s 3ms/step - loss: 0.3250 - accuracy: 0.5125 - val_loss: 0.3667 - val_accuracy: 0.4500\n",
      "Epoch 60/100\n",
      "20/20 [==============================] - 0s 3ms/step - loss: 0.3250 - accuracy: 0.5125 - val_loss: 0.3667 - val_accuracy: 0.4500\n",
      "Epoch 61/100\n",
      "20/20 [==============================] - 0s 3ms/step - loss: 0.3250 - accuracy: 0.5125 - val_loss: 0.3667 - val_accuracy: 0.4500\n",
      "Epoch 62/100\n",
      "20/20 [==============================] - 0s 2ms/step - loss: 0.3250 - accuracy: 0.5125 - val_loss: 0.3667 - val_accuracy: 0.4500\n",
      "Epoch 63/100\n",
      "20/20 [==============================] - 0s 3ms/step - loss: 0.3250 - accuracy: 0.5125 - val_loss: 0.3667 - val_accuracy: 0.4500\n",
      "Epoch 64/100\n",
      "20/20 [==============================] - 0s 3ms/step - loss: 0.3250 - accuracy: 0.5125 - val_loss: 0.3667 - val_accuracy: 0.4500\n",
      "Epoch 65/100\n",
      "20/20 [==============================] - 0s 3ms/step - loss: 0.3250 - accuracy: 0.5125 - val_loss: 0.3667 - val_accuracy: 0.4500\n",
      "Epoch 66/100\n",
      "20/20 [==============================] - 0s 3ms/step - loss: 0.3250 - accuracy: 0.5125 - val_loss: 0.3667 - val_accuracy: 0.4500\n",
      "Epoch 67/100\n",
      "20/20 [==============================] - 0s 3ms/step - loss: 0.3250 - accuracy: 0.5125 - val_loss: 0.3667 - val_accuracy: 0.4500\n",
      "Epoch 68/100\n",
      "20/20 [==============================] - 0s 3ms/step - loss: 0.3250 - accuracy: 0.5125 - val_loss: 0.3667 - val_accuracy: 0.4500\n",
      "Epoch 69/100\n",
      "20/20 [==============================] - 0s 3ms/step - loss: 0.3250 - accuracy: 0.5125 - val_loss: 0.3667 - val_accuracy: 0.4500\n",
      "Epoch 70/100\n",
      "20/20 [==============================] - 0s 3ms/step - loss: 0.3250 - accuracy: 0.5125 - val_loss: 0.3667 - val_accuracy: 0.4500\n",
      "Epoch 71/100\n",
      "20/20 [==============================] - 0s 3ms/step - loss: 0.3250 - accuracy: 0.5125 - val_loss: 0.3667 - val_accuracy: 0.4500\n",
      "Epoch 72/100\n",
      "20/20 [==============================] - 0s 3ms/step - loss: 0.3250 - accuracy: 0.5125 - val_loss: 0.3667 - val_accuracy: 0.4500\n",
      "Epoch 73/100\n",
      "20/20 [==============================] - 0s 3ms/step - loss: 0.3250 - accuracy: 0.5125 - val_loss: 0.3667 - val_accuracy: 0.4500\n",
      "Epoch 74/100\n",
      "20/20 [==============================] - 0s 3ms/step - loss: 0.3250 - accuracy: 0.5125 - val_loss: 0.3667 - val_accuracy: 0.4500\n",
      "Epoch 75/100\n",
      "20/20 [==============================] - 0s 3ms/step - loss: 0.3250 - accuracy: 0.5125 - val_loss: 0.3667 - val_accuracy: 0.4500\n",
      "Epoch 76/100\n",
      "20/20 [==============================] - 0s 3ms/step - loss: 0.3250 - accuracy: 0.5125 - val_loss: 0.3667 - val_accuracy: 0.4500\n",
      "Epoch 77/100\n",
      "20/20 [==============================] - 0s 3ms/step - loss: 0.3250 - accuracy: 0.5125 - val_loss: 0.3667 - val_accuracy: 0.4500\n",
      "Epoch 78/100\n",
      "20/20 [==============================] - 0s 2ms/step - loss: 0.3250 - accuracy: 0.5125 - val_loss: 0.3667 - val_accuracy: 0.4500\n",
      "Epoch 79/100\n",
      "20/20 [==============================] - 0s 3ms/step - loss: 0.3250 - accuracy: 0.5125 - val_loss: 0.3667 - val_accuracy: 0.4500\n",
      "Epoch 80/100\n",
      "20/20 [==============================] - 0s 3ms/step - loss: 0.3250 - accuracy: 0.5125 - val_loss: 0.3667 - val_accuracy: 0.4500\n",
      "Epoch 81/100\n",
      "20/20 [==============================] - 0s 2ms/step - loss: 0.3250 - accuracy: 0.5125 - val_loss: 0.3667 - val_accuracy: 0.4500\n",
      "Epoch 82/100\n",
      "20/20 [==============================] - 0s 3ms/step - loss: 0.3250 - accuracy: 0.5125 - val_loss: 0.3667 - val_accuracy: 0.4500\n",
      "Epoch 83/100\n",
      "20/20 [==============================] - 0s 3ms/step - loss: 0.3250 - accuracy: 0.5125 - val_loss: 0.3667 - val_accuracy: 0.4500\n",
      "Epoch 84/100\n",
      "20/20 [==============================] - 0s 3ms/step - loss: 0.3250 - accuracy: 0.5125 - val_loss: 0.3667 - val_accuracy: 0.4500\n",
      "Epoch 85/100\n",
      "20/20 [==============================] - 0s 3ms/step - loss: 0.3250 - accuracy: 0.5125 - val_loss: 0.3667 - val_accuracy: 0.4500\n",
      "Epoch 86/100\n",
      "20/20 [==============================] - 0s 3ms/step - loss: 0.3250 - accuracy: 0.5125 - val_loss: 0.3667 - val_accuracy: 0.4500\n",
      "Epoch 87/100\n",
      "20/20 [==============================] - 0s 2ms/step - loss: 0.3250 - accuracy: 0.5125 - val_loss: 0.3667 - val_accuracy: 0.4500\n",
      "Epoch 88/100\n",
      "20/20 [==============================] - 0s 3ms/step - loss: 0.3250 - accuracy: 0.5125 - val_loss: 0.3667 - val_accuracy: 0.4500\n",
      "Epoch 89/100\n",
      "20/20 [==============================] - 0s 3ms/step - loss: 0.3250 - accuracy: 0.5125 - val_loss: 0.3667 - val_accuracy: 0.4500\n",
      "Epoch 90/100\n",
      "20/20 [==============================] - 0s 3ms/step - loss: 0.3250 - accuracy: 0.5125 - val_loss: 0.3667 - val_accuracy: 0.4500\n",
      "Epoch 91/100\n",
      "20/20 [==============================] - 0s 2ms/step - loss: 0.3250 - accuracy: 0.5125 - val_loss: 0.3667 - val_accuracy: 0.4500\n",
      "Epoch 92/100\n",
      "20/20 [==============================] - 0s 3ms/step - loss: 0.3250 - accuracy: 0.5125 - val_loss: 0.3667 - val_accuracy: 0.4500\n",
      "Epoch 93/100\n",
      "20/20 [==============================] - 0s 3ms/step - loss: 0.3250 - accuracy: 0.5125 - val_loss: 0.3667 - val_accuracy: 0.4500\n",
      "Epoch 94/100\n",
      "20/20 [==============================] - 0s 3ms/step - loss: 0.3250 - accuracy: 0.5125 - val_loss: 0.3667 - val_accuracy: 0.4500\n",
      "Epoch 95/100\n",
      "20/20 [==============================] - 0s 3ms/step - loss: 0.3250 - accuracy: 0.5125 - val_loss: 0.3667 - val_accuracy: 0.4500\n",
      "Epoch 96/100\n",
      "20/20 [==============================] - 0s 3ms/step - loss: 0.3250 - accuracy: 0.5125 - val_loss: 0.3667 - val_accuracy: 0.4500\n",
      "Epoch 97/100\n",
      "20/20 [==============================] - 0s 3ms/step - loss: 0.3250 - accuracy: 0.5125 - val_loss: 0.3667 - val_accuracy: 0.4500\n",
      "Epoch 98/100\n",
      "20/20 [==============================] - 0s 3ms/step - loss: 0.3250 - accuracy: 0.5125 - val_loss: 0.3667 - val_accuracy: 0.4500\n",
      "Epoch 99/100\n",
      "20/20 [==============================] - 0s 3ms/step - loss: 0.3250 - accuracy: 0.5125 - val_loss: 0.3667 - val_accuracy: 0.4500\n",
      "Epoch 100/100\n",
      "20/20 [==============================] - 0s 3ms/step - loss: 0.3250 - accuracy: 0.5125 - val_loss: 0.3667 - val_accuracy: 0.4500\n"
     ]
    },
    {
     "data": {
      "text/plain": [
       "<keras.src.callbacks.History at 0x1b9ce89c1c0>"
      ]
     },
     "execution_count": 37,
     "metadata": {},
     "output_type": "execute_result"
    }
   ],
   "source": [
    "# Train the model on the dataset\n",
    "model.fit(X, y, epochs=100, batch_size=4, validation_split=0.2)"
   ]
  },
  {
   "cell_type": "code",
   "execution_count": 38,
   "metadata": {
    "execution": {
     "iopub.execute_input": "2023-11-02T05:49:21.726283Z",
     "iopub.status.busy": "2023-11-02T05:49:21.725003Z",
     "iopub.status.idle": "2023-11-02T05:49:21.950442Z",
     "shell.execute_reply": "2023-11-02T05:49:21.948899Z",
     "shell.execute_reply.started": "2023-11-02T05:49:21.726211Z"
    }
   },
   "outputs": [
    {
     "name": "stdout",
     "output_type": "stream",
     "text": [
      "1/1 [==============================] - 0s 85ms/step - loss: 0.8333 - accuracy: 1.0000\n"
     ]
    }
   ],
   "source": [
    "# Evaluate the model on the test set\n",
    "test_loss, test_accuracy = model.evaluate(X_test, y_test)"
   ]
  },
  {
   "cell_type": "code",
   "execution_count": 39,
   "metadata": {
    "execution": {
     "iopub.execute_input": "2023-11-02T05:49:21.952402Z",
     "iopub.status.busy": "2023-11-02T05:49:21.952057Z",
     "iopub.status.idle": "2023-11-02T05:49:21.960049Z",
     "shell.execute_reply": "2023-11-02T05:49:21.958536Z",
     "shell.execute_reply.started": "2023-11-02T05:49:21.952375Z"
    }
   },
   "outputs": [
    {
     "name": "stdout",
     "output_type": "stream",
     "text": [
      "Test loss is: 0.8333, Test accuracy is: 1.0000\n"
     ]
    }
   ],
   "source": [
    "# Test results\n",
    "print(f'Test loss is: {test_loss:.4f}, Test accuracy is: {test_accuracy:.4f}')"
   ]
  },
  {
   "cell_type": "code",
   "execution_count": null,
   "metadata": {},
   "outputs": [],
   "source": []
  }
 ],
 "metadata": {
  "kernelspec": {
   "display_name": "Python 3 (ipykernel)",
   "language": "python",
   "name": "python3"
  },
  "language_info": {
   "codemirror_mode": {
    "name": "ipython",
    "version": 3
   },
   "file_extension": ".py",
   "mimetype": "text/x-python",
   "name": "python",
   "nbconvert_exporter": "python",
   "pygments_lexer": "ipython3",
   "version": "3.9.13"
  }
 },
 "nbformat": 4,
 "nbformat_minor": 4
}
