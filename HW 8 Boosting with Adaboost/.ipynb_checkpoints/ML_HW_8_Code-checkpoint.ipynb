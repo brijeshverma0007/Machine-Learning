{
 "cells": [
  {
   "cell_type": "code",
   "execution_count": 1,
   "metadata": {
    "_cell_guid": "b1076dfc-b9ad-4769-8c92-a6c4dae69d19",
    "_uuid": "8f2839f25d086af736a60e9eeb907d3b93b6e0e5",
    "execution": {
     "iopub.execute_input": "2023-12-02T22:49:53.070098Z",
     "iopub.status.busy": "2023-12-02T22:49:53.069711Z",
     "iopub.status.idle": "2023-12-02T22:49:57.111006Z",
     "shell.execute_reply": "2023-12-02T22:49:57.110068Z",
     "shell.execute_reply.started": "2023-12-02T22:49:53.070064Z"
    }
   },
   "outputs": [
    {
     "name": "stderr",
     "output_type": "stream",
     "text": [
      "C:\\ProgramData\\Anaconda3\\lib\\site-packages\\scipy\\__init__.py:155: UserWarning: A NumPy version >=1.18.5 and <1.25.0 is required for this version of SciPy (detected version 1.26.1\n",
      "  warnings.warn(f\"A NumPy version >={np_minversion} and <{np_maxversion}\"\n"
     ]
    }
   ],
   "source": [
    "import numpy as np\n",
    "import pandas as pd\n",
    "from sklearn.model_selection import train_test_split\n",
    "from sklearn.preprocessing import MinMaxScaler\n",
    "from keras.utils import to_categorical"
   ]
  },
  {
   "cell_type": "code",
   "execution_count": 2,
   "metadata": {
    "execution": {
     "iopub.execute_input": "2023-12-02T22:49:57.113337Z",
     "iopub.status.busy": "2023-12-02T22:49:57.112710Z",
     "iopub.status.idle": "2023-12-02T22:49:57.122429Z",
     "shell.execute_reply": "2023-12-02T22:49:57.121311Z",
     "shell.execute_reply.started": "2023-12-02T22:49:57.113302Z"
    }
   },
   "outputs": [],
   "source": [
    "# Loading the dataset\n",
    "data = pd.read_csv('31-40.csv')"
   ]
  },
  {
   "cell_type": "code",
   "execution_count": 3,
   "metadata": {
    "execution": {
     "iopub.execute_input": "2023-12-02T22:49:57.124026Z",
     "iopub.status.busy": "2023-12-02T22:49:57.123704Z",
     "iopub.status.idle": "2023-12-02T22:49:57.135696Z",
     "shell.execute_reply": "2023-12-02T22:49:57.134622Z",
     "shell.execute_reply.started": "2023-12-02T22:49:57.124000Z"
    }
   },
   "outputs": [
    {
     "data": {
      "text/plain": [
       "univ_rank         int64\n",
       "first_initial    object\n",
       "last_initial     object\n",
       "cit_2017          int32\n",
       "cit_2018          int64\n",
       "cit_2019          int64\n",
       "cit_2020          int64\n",
       "cit_2021          int64\n",
       "cit_2022          int64\n",
       "h_index           int64\n",
       "i_10_index        int64\n",
       "dtype: object"
      ]
     },
     "execution_count": 3,
     "metadata": {},
     "output_type": "execute_result"
    }
   ],
   "source": [
    "# Preprocessing \n",
    "data['cit_2017'] = data['cit_2017'].astype(str).str.replace(',', '')\n",
    "data['cit_2017'] = data['cit_2017'].astype('int')\n",
    "data.dtypes"
   ]
  },
  {
   "cell_type": "code",
   "execution_count": 4,
   "metadata": {
    "execution": {
     "iopub.execute_input": "2023-12-02T22:49:57.138354Z",
     "iopub.status.busy": "2023-12-02T22:49:57.138031Z",
     "iopub.status.idle": "2023-12-02T22:49:57.148341Z",
     "shell.execute_reply": "2023-12-02T22:49:57.147325Z",
     "shell.execute_reply.started": "2023-12-02T22:49:57.138328Z"
    }
   },
   "outputs": [],
   "source": [
    "# Selecting numerical features\n",
    "numdata=data.select_dtypes(include=['number'])\n",
    "numdata2=numdata.drop(['h_index','i_10_index', 'univ_rank'],axis=1)"
   ]
  },
  {
   "cell_type": "code",
   "execution_count": 5,
   "metadata": {
    "execution": {
     "iopub.execute_input": "2023-12-02T22:49:57.152727Z",
     "iopub.status.busy": "2023-12-02T22:49:57.151633Z",
     "iopub.status.idle": "2023-12-02T22:49:57.158667Z",
     "shell.execute_reply": "2023-12-02T22:49:57.157874Z",
     "shell.execute_reply.started": "2023-12-02T22:49:57.152695Z"
    }
   },
   "outputs": [],
   "source": [
    "# Creating a new column 'Ratio' based on the division of 'cit_2022' by 'cit_2021'\n",
    "numdata2['Ratio'] = (numdata2['cit_2022'] / numdata2['cit_2021']).round(2)"
   ]
  },
  {
   "cell_type": "code",
   "execution_count": 6,
   "metadata": {
    "execution": {
     "iopub.execute_input": "2023-12-02T22:49:57.160688Z",
     "iopub.status.busy": "2023-12-02T22:49:57.159833Z",
     "iopub.status.idle": "2023-12-02T22:49:57.168038Z",
     "shell.execute_reply": "2023-12-02T22:49:57.166936Z",
     "shell.execute_reply.started": "2023-12-02T22:49:57.160659Z"
    }
   },
   "outputs": [],
   "source": [
    "# Classifying the 'Ratio' values into 'Low', 'Medium', or 'High'\n",
    "def classify_value(value):\n",
    "    if value < 1.05:\n",
    "        return 'Low'\n",
    "    elif 1.05 <= value <= 1.15:\n",
    "        return 'Medium'\n",
    "    else:\n",
    "        return 'High'"
   ]
  },
  {
   "cell_type": "code",
   "execution_count": 7,
   "metadata": {
    "execution": {
     "iopub.execute_input": "2023-12-02T22:49:57.171181Z",
     "iopub.status.busy": "2023-12-02T22:49:57.170242Z",
     "iopub.status.idle": "2023-12-02T22:49:57.180055Z",
     "shell.execute_reply": "2023-12-02T22:49:57.178739Z",
     "shell.execute_reply.started": "2023-12-02T22:49:57.170964Z"
    }
   },
   "outputs": [],
   "source": [
    "# Applying the classification function to the 'Ratio' column\n",
    "numdata2['Ratio']=numdata2['Ratio'].apply(classify_value)"
   ]
  },
  {
   "cell_type": "code",
   "execution_count": 8,
   "metadata": {
    "execution": {
     "iopub.execute_input": "2023-12-02T22:49:57.182969Z",
     "iopub.status.busy": "2023-12-02T22:49:57.181984Z",
     "iopub.status.idle": "2023-12-02T22:49:57.192361Z",
     "shell.execute_reply": "2023-12-02T22:49:57.190997Z",
     "shell.execute_reply.started": "2023-12-02T22:49:57.182927Z"
    }
   },
   "outputs": [],
   "source": [
    "# Splitting the dataset into features (X) and target variable (y)\n",
    "import pandas as pd\n",
    "X=numdata2.iloc[:,0:6]\n",
    "y= pd.DataFrame(numdata2['Ratio'], columns = ['Ratio'])"
   ]
  },
  {
   "cell_type": "code",
   "execution_count": 9,
   "metadata": {
    "execution": {
     "iopub.execute_input": "2023-12-02T22:49:57.193859Z",
     "iopub.status.busy": "2023-12-02T22:49:57.193570Z",
     "iopub.status.idle": "2023-12-02T22:49:57.200882Z",
     "shell.execute_reply": "2023-12-02T22:49:57.200116Z",
     "shell.execute_reply.started": "2023-12-02T22:49:57.193834Z"
    }
   },
   "outputs": [],
   "source": [
    "# Mapping the categorical labels to numerical values\n",
    "label_mapping = {'Low': 0, 'Medium': 1, 'High': 2}\n",
    "y['Ratio']= [label_mapping[label] for label in y['Ratio']]"
   ]
  },
  {
   "cell_type": "code",
   "execution_count": 10,
   "metadata": {
    "execution": {
     "iopub.execute_input": "2023-12-02T22:49:57.213729Z",
     "iopub.status.busy": "2023-12-02T22:49:57.213280Z",
     "iopub.status.idle": "2023-12-02T22:49:57.227035Z",
     "shell.execute_reply": "2023-12-02T22:49:57.226164Z",
     "shell.execute_reply.started": "2023-12-02T22:49:57.213702Z"
    }
   },
   "outputs": [],
   "source": [
    "# Scaling the features\n",
    "scaler = MinMaxScaler()\n",
    "X = scaler.fit_transform(X)"
   ]
  },
  {
   "cell_type": "code",
   "execution_count": 11,
   "metadata": {
    "execution": {
     "iopub.execute_input": "2023-12-02T22:49:57.228727Z",
     "iopub.status.busy": "2023-12-02T22:49:57.228061Z",
     "iopub.status.idle": "2023-12-02T22:49:57.244667Z",
     "shell.execute_reply": "2023-12-02T22:49:57.243589Z",
     "shell.execute_reply.started": "2023-12-02T22:49:57.228699Z"
    }
   },
   "outputs": [
    {
     "data": {
      "text/plain": [
       "array([[1.90217391e-03, 4.80526050e-03, 1.32872708e-02, 2.01612903e-02,\n",
       "        3.07510349e-02, 3.34152334e-02],\n",
       "       [8.15217391e-04, 1.01163379e-03, 3.72043582e-03, 2.79377880e-02,\n",
       "        3.40035482e-02, 3.24324324e-02],\n",
       "       [2.55163043e-01, 2.23823976e-01, 2.10736115e-01, 2.42799539e-01,\n",
       "        2.47191011e-01, 1.85257985e-01],\n",
       "       [1.25000000e-02, 1.84623166e-02, 1.96651608e-02, 1.92972350e-02,\n",
       "        1.62625665e-02, 1.40049140e-02],\n",
       "       [3.50543478e-02, 3.74304502e-02, 2.84347595e-02, 2.73617512e-02,\n",
       "        2.39503253e-02, 2.06388206e-02],\n",
       "       [3.80434783e-02, 4.80526050e-02, 5.52750465e-02, 7.45967742e-02,\n",
       "        1.51981076e-01, 2.28255528e-01],\n",
       "       [8.15217391e-04, 2.02326758e-03, 3.72043582e-03, 8.64055300e-03,\n",
       "        1.09402720e-02, 2.01474201e-02],\n",
       "       [1.29347826e-01, 1.41122914e-01, 1.41376561e-01, 2.01900922e-01,\n",
       "        1.71200473e-01, 1.74447174e-01],\n",
       "       [2.52717391e-02, 3.08548306e-02, 4.62397024e-02, 7.66129032e-02,\n",
       "        8.16085157e-02, 8.94348894e-02],\n",
       "       [2.44565217e-03, 5.05816894e-04, 0.00000000e+00, 4.32027650e-03,\n",
       "        5.02661147e-03, 3.68550369e-03],\n",
       "       [1.14945652e-01, 4.24886191e-02, 5.68695190e-02, 3.83064516e-02,\n",
       "        1.12359551e-02, 3.19410319e-03],\n",
       "       [9.80978261e-02, 3.36368235e-02, 1.03640712e-02, 7.17165899e-02,\n",
       "        7.68775872e-03, 4.91400491e-04],\n",
       "       [9.78260870e-03, 2.14972180e-02, 9.48711135e-02, 2.47695853e-02,\n",
       "        5.32229450e-03, 7.37100737e-04],\n",
       "       [1.63043478e-03, 1.99797673e-02, 7.44087164e-03, 0.00000000e+00,\n",
       "        0.00000000e+00, 0.00000000e+00],\n",
       "       [6.79347826e-03, 7.58725341e-04, 2.23226149e-02, 1.41129032e-02,\n",
       "        2.06978119e-03, 1.96560197e-03],\n",
       "       [4.32065217e-02, 9.86342944e-03, 7.70661706e-03, 1.00806452e-02,\n",
       "        5.91366056e-04, 1.96560197e-03],\n",
       "       [3.26630435e-01, 1.24936773e-01, 1.21977146e-01, 5.73156682e-02,\n",
       "        2.01064459e-02, 2.21130221e-02],\n",
       "       [6.41304348e-02, 6.42387456e-02, 1.35264417e-01, 2.73617512e-02,\n",
       "        1.74452986e-02, 1.15479115e-02],\n",
       "       [3.39673913e-02, 1.00404654e-01, 7.04225352e-02, 1.00806452e-02,\n",
       "        2.30632762e-02, 1.25307125e-02],\n",
       "       [5.65217391e-02, 9.68639353e-02, 1.86021791e-02, 3.65783410e-02,\n",
       "        1.53755174e-02, 2.94840295e-03],\n",
       "       [7.03804348e-02, 6.19625695e-02, 4.67711932e-02, 4.29147465e-02,\n",
       "        4.81963335e-02, 3.68550369e-02],\n",
       "       [1.30978261e-01, 1.87405159e-01, 2.49800691e-01, 3.24884793e-01,\n",
       "        4.24305145e-01, 6.01965602e-01],\n",
       "       [4.29347826e-02, 3.38897319e-02, 3.26866862e-02, 3.36981567e-02,\n",
       "        4.08042578e-02, 3.85749386e-02],\n",
       "       [1.90489130e-01, 1.71977744e-01, 2.05155461e-01, 2.34158986e-01,\n",
       "        3.01301005e-01, 2.55036855e-01],\n",
       "       [4.45652174e-02, 6.55032878e-02, 7.97236248e-02, 1.05702765e-01,\n",
       "        1.72678888e-01, 1.47420147e-01],\n",
       "       [2.44565217e-02, 2.02326758e-02, 2.81690141e-02, 2.70737327e-02,\n",
       "        3.75517445e-02, 6.41277641e-02],\n",
       "       [2.33967391e-01, 2.23318159e-01, 1.89742227e-01, 2.01324885e-01,\n",
       "        1.93081017e-01, 1.47420147e-01],\n",
       "       [4.89130435e-03, 6.06980273e-03, 1.62104704e-02, 2.50576037e-02,\n",
       "        3.04553519e-02, 3.39066339e-02],\n",
       "       [5.35326087e-02, 5.51340415e-02, 6.08557002e-02, 7.11405530e-02,\n",
       "        7.39207569e-02, 5.11056511e-02],\n",
       "       [6.84782609e-02, 1.51492160e-01, 2.47143237e-01, 3.75000000e-01,\n",
       "        4.98521585e-01, 4.55036855e-01],\n",
       "       [1.08695652e-02, 1.66919575e-02, 3.16237045e-02, 5.38594470e-02,\n",
       "        6.03193377e-02, 6.09336609e-02],\n",
       "       [1.76630435e-02, 8.09307031e-03, 1.56789795e-02, 2.88018433e-02,\n",
       "        2.48373743e-02, 2.92383292e-02],\n",
       "       [8.15217391e-04, 0.00000000e+00, 5.31490832e-03, 1.55529954e-02,\n",
       "        2.01064459e-02, 3.02211302e-02],\n",
       "       [4.53804348e-02, 6.77794638e-02, 9.38081318e-02, 1.31912442e-01,\n",
       "        2.06682436e-01, 2.10810811e-01],\n",
       "       [2.47282609e-02, 3.06019221e-02, 4.14562849e-02, 5.87557604e-02,\n",
       "        8.19041987e-02, 6.85503686e-02],\n",
       "       [4.61956522e-02, 4.60293374e-02, 4.65054478e-02, 6.62442396e-02,\n",
       "        7.42164400e-02, 6.75675676e-02],\n",
       "       [0.00000000e+00, 5.81689428e-03, 9.83258039e-03, 3.11059908e-02,\n",
       "        6.00236546e-02, 7.02702703e-02],\n",
       "       [9.23913043e-03, 1.66919575e-02, 2.20568695e-02, 3.45622120e-02,\n",
       "        4.16913069e-02, 4.34889435e-02],\n",
       "       [3.26086957e-03, 4.29944360e-03, 7.97236248e-03, 1.58410138e-02,\n",
       "        9.16617386e-03, 1.08108108e-02],\n",
       "       [2.50000000e-02, 2.63024785e-02, 3.61413766e-02, 2.64976959e-02,\n",
       "        2.77942046e-02, 2.94840295e-02],\n",
       "       [5.84239130e-02, 2.95902883e-02, 3.48126495e-02, 4.17626728e-02,\n",
       "        3.81431106e-02, 2.94840295e-02],\n",
       "       [2.23641304e-01, 1.82094082e-01, 2.10736115e-01, 2.28974654e-01,\n",
       "        2.24127735e-01, 1.67321867e-01],\n",
       "       [7.93478261e-02, 1.28224583e-01, 1.78315174e-01, 2.67281106e-01,\n",
       "        3.79952691e-01, 3.57493857e-01],\n",
       "       [6.71195652e-02, 8.09307031e-02, 1.22774382e-01, 1.55529954e-01,\n",
       "        1.92785334e-01, 1.72972973e-01],\n",
       "       [2.36413043e-02, 2.25088518e-02, 2.28541058e-02, 2.10253456e-02,\n",
       "        2.63157895e-02, 2.26044226e-02],\n",
       "       [5.21739130e-02, 5.58927668e-02, 4.49109753e-02, 5.55875576e-02,\n",
       "        4.81963335e-02, 3.53808354e-02],\n",
       "       [3.39673913e-02, 3.54071826e-02, 5.02258836e-02, 6.73963134e-02,\n",
       "        8.48610290e-02, 6.73218673e-02],\n",
       "       [2.17391304e-03, 3.28780981e-03, 1.32872708e-03, 3.16820276e-03,\n",
       "        7.68775872e-03, 8.84520885e-03],\n",
       "       [9.23913043e-03, 8.85179565e-03, 1.88679245e-02, 2.33294931e-02,\n",
       "        2.63157895e-02, 2.33415233e-02],\n",
       "       [4.70108696e-02, 6.12038442e-02, 9.51368589e-02, 1.55529954e-01,\n",
       "        1.79479598e-01, 1.71990172e-01],\n",
       "       [2.63315217e-01, 3.09054122e-01, 4.08982195e-01, 5.56163594e-01,\n",
       "        6.87167357e-01, 6.98280098e-01],\n",
       "       [1.05163043e-01, 9.58523015e-02, 1.16927983e-01, 1.18951613e-01,\n",
       "        1.07924305e-01, 8.45208845e-02],\n",
       "       [6.95652174e-02, 7.78958017e-02, 1.01780494e-01, 9.44700461e-02,\n",
       "        9.10703726e-02, 8.42751843e-02],\n",
       "       [3.24456522e-01, 3.25998988e-01, 3.05607228e-01, 2.72753456e-01,\n",
       "        3.08988764e-01, 2.46437346e-01],\n",
       "       [3.64945652e-01, 3.84420840e-01, 4.10576668e-01, 4.16474654e-01,\n",
       "        3.94441159e-01, 2.95577396e-01],\n",
       "       [9.63858696e-01, 9.59028832e-01, 9.89104438e-01, 9.70046083e-01,\n",
       "        9.58604376e-01, 6.78869779e-01],\n",
       "       [1.12771739e-01, 1.08750632e-01, 1.05500930e-01, 1.05702765e-01,\n",
       "        1.14133649e-01, 8.35380835e-02],\n",
       "       [1.08695652e-01, 1.37582195e-01, 1.26494818e-01, 1.44585253e-01,\n",
       "        1.51094027e-01, 1.18427518e-01],\n",
       "       [2.42663043e-01, 2.47344461e-01, 2.22960404e-01, 1.91244240e-01,\n",
       "        1.78001183e-01, 1.34152334e-01],\n",
       "       [7.90760870e-02, 9.93930197e-02, 9.91230401e-02, 1.44585253e-01,\n",
       "        1.62034299e-01, 1.37346437e-01],\n",
       "       [1.87771739e-01, 1.69195751e-01, 1.52803614e-01, 1.61002304e-01,\n",
       "        1.71791839e-01, 1.31203931e-01],\n",
       "       [1.00000000e+00, 1.00000000e+00, 1.00000000e+00, 1.00000000e+00,\n",
       "        1.00000000e+00, 7.44226044e-01],\n",
       "       [3.01630435e-01, 3.08042489e-01, 3.40685623e-01, 3.51382488e-01,\n",
       "        3.22885866e-01, 2.69533170e-01],\n",
       "       [1.30434783e-02, 1.51745068e-02, 1.46159979e-02, 1.67050691e-02,\n",
       "        1.41927853e-02, 2.06388206e-02],\n",
       "       [1.04076087e-01, 1.93474962e-01, 3.38028169e-01, 4.84735023e-01,\n",
       "        6.65582496e-01, 6.41769042e-01],\n",
       "       [8.69565217e-02, 7.43550835e-02, 7.17512623e-02, 9.76382488e-02,\n",
       "        6.62329982e-02, 4.86486486e-02],\n",
       "       [1.30434783e-02, 2.52908447e-02, 3.05607228e-02, 4.43548387e-02,\n",
       "        5.05617978e-02, 6.28992629e-02],\n",
       "       [8.96739130e-03, 1.01163379e-02, 1.56789795e-02, 3.05299539e-02,\n",
       "        4.02128918e-02, 3.63636364e-02],\n",
       "       [5.21739130e-02, 5.13404148e-02, 4.99601382e-02, 5.99078341e-02,\n",
       "        6.17977528e-02, 6.19164619e-02],\n",
       "       [1.14130435e-02, 2.27617602e-02, 3.40154132e-02, 3.42741935e-02,\n",
       "        5.29272620e-02, 5.87223587e-02],\n",
       "       [6.92934783e-02, 5.94334851e-02, 5.39463194e-02, 5.58755760e-02,\n",
       "        5.32229450e-02, 3.78378378e-02],\n",
       "       [6.05978261e-02, 7.94132524e-02, 9.75285676e-02, 1.23847926e-01,\n",
       "        1.85688941e-01, 1.32678133e-01],\n",
       "       [4.15760870e-02, 5.13404148e-02, 8.23810789e-02, 1.12615207e-01,\n",
       "        1.40153755e-01, 1.30712531e-01],\n",
       "       [2.71739130e-02, 2.68082954e-02, 4.49109753e-02, 4.86751152e-02,\n",
       "        4.25783560e-02, 4.49631450e-02],\n",
       "       [1.73913043e-02, 1.21396055e-02, 1.59447250e-02, 3.11059908e-02,\n",
       "        3.78474276e-02, 4.57002457e-02],\n",
       "       [2.85326087e-02, 3.13606474e-02, 2.09938879e-02, 2.73617512e-02,\n",
       "        2.57244234e-02, 2.03931204e-02],\n",
       "       [6.76630435e-02, 5.89276682e-02, 6.13871911e-02, 8.61175115e-02,\n",
       "        7.53991721e-02, 7.07616708e-02],\n",
       "       [1.14945652e-01, 1.34800202e-01, 1.40845070e-01, 1.37384793e-01,\n",
       "        1.70313424e-01, 1.33169533e-01],\n",
       "       [1.92934783e-02, 4.55235205e-02, 6.82965719e-02, 9.99423963e-02,\n",
       "        9.37315198e-02, 9.75429975e-02],\n",
       "       [1.65760870e-02, 1.97268589e-02, 4.17220303e-02, 5.04032258e-02,\n",
       "        5.11531638e-02, 4.00491400e-02],\n",
       "       [6.35869565e-02, 5.53869499e-02, 5.71352644e-02, 4.75230415e-02,\n",
       "        4.87876996e-02, 3.63636364e-02],\n",
       "       [6.25000000e-03, 5.56398584e-03, 1.16927983e-02, 1.92972350e-02,\n",
       "        3.75517445e-02, 3.63636364e-02],\n",
       "       [7.33695652e-03, 1.11279717e-02, 2.49800691e-02, 3.65783410e-02,\n",
       "        4.46481372e-02, 3.48894349e-02],\n",
       "       [1.70652174e-01, 1.92969145e-01, 2.73983524e-01, 3.30069124e-01,\n",
       "        4.87285630e-01, 5.01719902e-01],\n",
       "       [4.78532609e-01, 4.95700556e-01, 5.76136062e-01, 6.90668203e-01,\n",
       "        9.06564163e-01, 8.07371007e-01],\n",
       "       [9.51086957e-03, 1.11279717e-02, 2.55115599e-02, 5.87557604e-02,\n",
       "        8.48610290e-02, 7.46928747e-02],\n",
       "       [1.38858696e-01, 1.43651998e-01, 1.50411905e-01, 1.49481567e-01,\n",
       "        1.49911295e-01, 1.19901720e-01],\n",
       "       [2.57880435e-01, 3.07536672e-01, 4.26521393e-01, 6.18663594e-01,\n",
       "        8.76995860e-01, 1.00000000e+00],\n",
       "       [1.61141304e-01, 1.48710167e-01, 1.76720702e-01, 2.09965438e-01,\n",
       "        2.32111177e-01, 2.06879607e-01],\n",
       "       [4.58423913e-01, 4.43601416e-01, 3.81876163e-01, 3.84216590e-01,\n",
       "        3.47427558e-01, 2.52579853e-01],\n",
       "       [3.09782609e-02, 4.40060698e-02, 4.35822482e-02, 4.83870968e-02,\n",
       "        5.52927262e-02, 4.12776413e-02],\n",
       "       [6.63043478e-02, 6.39858371e-02, 5.36805740e-02, 6.56682028e-02,\n",
       "        5.85452395e-02, 4.17690418e-02],\n",
       "       [3.34239130e-01, 3.03995953e-01, 3.46266277e-01, 3.62615207e-01,\n",
       "        3.72560615e-01, 3.06879607e-01],\n",
       "       [5.43478261e-04, 0.00000000e+00, 1.86021791e-03, 6.62442396e-03,\n",
       "        2.86812537e-02, 4.74201474e-02],\n",
       "       [1.18750000e-01, 1.11279717e-01, 1.12676056e-01, 1.33064516e-01,\n",
       "        1.77114134e-01, 2.58722359e-01],\n",
       "       [1.30434783e-02, 1.28983308e-02, 1.03640712e-02, 1.29608295e-02,\n",
       "        1.15316381e-02, 9.58230958e-03],\n",
       "       [1.44565217e-01, 1.34547294e-01, 1.31809726e-01, 1.57546083e-01,\n",
       "        1.47841514e-01, 1.23832924e-01],\n",
       "       [9.78260870e-03, 1.23925139e-02, 1.48817433e-02, 2.36175115e-02,\n",
       "        4.37610881e-02, 5.42997543e-02],\n",
       "       [6.57608696e-02, 7.48609004e-02, 9.16821685e-02, 1.02822581e-01,\n",
       "        1.23891189e-01, 1.21621622e-01],\n",
       "       [1.90217391e-03, 1.77035913e-03, 9.30108956e-03, 2.33294931e-02,\n",
       "        3.63690124e-02, 3.58722359e-02]])"
      ]
     },
     "execution_count": 11,
     "metadata": {},
     "output_type": "execute_result"
    }
   ],
   "source": [
    "X"
   ]
  },
  {
   "cell_type": "code",
   "execution_count": 12,
   "metadata": {
    "execution": {
     "iopub.execute_input": "2023-12-02T22:49:57.246623Z",
     "iopub.status.busy": "2023-12-02T22:49:57.245664Z",
     "iopub.status.idle": "2023-12-02T22:49:57.311825Z",
     "shell.execute_reply": "2023-12-02T22:49:57.310721Z",
     "shell.execute_reply.started": "2023-12-02T22:49:57.246593Z"
    }
   },
   "outputs": [],
   "source": [
    "from sklearn.ensemble import AdaBoostClassifier\n",
    "from sklearn.model_selection import train_test_split\n",
    "from sklearn.metrics import accuracy_score"
   ]
  },
  {
   "cell_type": "code",
   "execution_count": 13,
   "metadata": {
    "execution": {
     "iopub.execute_input": "2023-12-02T22:49:57.313780Z",
     "iopub.status.busy": "2023-12-02T22:49:57.313465Z",
     "iopub.status.idle": "2023-12-02T22:49:57.319899Z",
     "shell.execute_reply": "2023-12-02T22:49:57.318792Z",
     "shell.execute_reply.started": "2023-12-02T22:49:57.313752Z"
    }
   },
   "outputs": [],
   "source": [
    "# Splitting the dataset into training and testing sets\n",
    "X_train, X_test, y_train, y_test = train_test_split(X, y, test_size=0.2, random_state=42)"
   ]
  },
  {
   "cell_type": "code",
   "execution_count": 14,
   "metadata": {
    "execution": {
     "iopub.execute_input": "2023-12-02T22:49:57.322392Z",
     "iopub.status.busy": "2023-12-02T22:49:57.321648Z",
     "iopub.status.idle": "2023-12-02T22:49:57.329085Z",
     "shell.execute_reply": "2023-12-02T22:49:57.327976Z",
     "shell.execute_reply.started": "2023-12-02T22:49:57.322359Z"
    }
   },
   "outputs": [],
   "source": [
    "# Creating an AdaBoost classifier\n",
    "adaboost = AdaBoostClassifier(n_estimators=800, learning_rate=0.5)"
   ]
  },
  {
   "cell_type": "code",
   "execution_count": 15,
   "metadata": {
    "execution": {
     "iopub.execute_input": "2023-12-02T22:49:57.331267Z",
     "iopub.status.busy": "2023-12-02T22:49:57.330348Z",
     "iopub.status.idle": "2023-12-02T22:49:58.657278Z",
     "shell.execute_reply": "2023-12-02T22:49:58.656258Z",
     "shell.execute_reply.started": "2023-12-02T22:49:57.331226Z"
    }
   },
   "outputs": [
    {
     "name": "stderr",
     "output_type": "stream",
     "text": [
      "C:\\ProgramData\\Anaconda3\\lib\\site-packages\\sklearn\\utils\\validation.py:993: DataConversionWarning: A column-vector y was passed when a 1d array was expected. Please change the shape of y to (n_samples, ), for example using ravel().\n",
      "  y = column_or_1d(y, warn=True)\n"
     ]
    },
    {
     "data": {
      "text/plain": [
       "AdaBoostClassifier(learning_rate=0.5, n_estimators=800)"
      ]
     },
     "execution_count": 15,
     "metadata": {},
     "output_type": "execute_result"
    }
   ],
   "source": [
    "# Training the AdaBoost classifier\n",
    "adaboost.fit(X_train, y_train)"
   ]
  },
  {
   "cell_type": "code",
   "execution_count": 16,
   "metadata": {
    "execution": {
     "iopub.execute_input": "2023-12-02T22:49:58.659019Z",
     "iopub.status.busy": "2023-12-02T22:49:58.658680Z",
     "iopub.status.idle": "2023-12-02T22:49:58.775898Z",
     "shell.execute_reply": "2023-12-02T22:49:58.775085Z",
     "shell.execute_reply.started": "2023-12-02T22:49:58.658992Z"
    }
   },
   "outputs": [],
   "source": [
    "# Making predictions on the test set\n",
    "y_pred_1 = adaboost.predict(X_test)"
   ]
  },
  {
   "cell_type": "code",
   "execution_count": 17,
   "metadata": {
    "execution": {
     "iopub.execute_input": "2023-12-02T22:49:58.777809Z",
     "iopub.status.busy": "2023-12-02T22:49:58.777030Z",
     "iopub.status.idle": "2023-12-02T22:49:58.786349Z",
     "shell.execute_reply": "2023-12-02T22:49:58.785106Z",
     "shell.execute_reply.started": "2023-12-02T22:49:58.777778Z"
    }
   },
   "outputs": [
    {
     "name": "stdout",
     "output_type": "stream",
     "text": [
      "Accuracy: 70.00%\n"
     ]
    }
   ],
   "source": [
    "# Evaluating the accuracy of the model\n",
    "accuracy = accuracy_score(y_test, y_pred_1)\n",
    "print(f'Accuracy: {accuracy:.2%}')"
   ]
  },
  {
   "cell_type": "code",
   "execution_count": 20,
   "metadata": {
    "execution": {
     "iopub.execute_input": "2023-12-02T22:49:58.800998Z",
     "iopub.status.busy": "2023-12-02T22:49:58.800588Z",
     "iopub.status.idle": "2023-12-02T22:49:58.814321Z",
     "shell.execute_reply": "2023-12-02T22:49:58.813074Z",
     "shell.execute_reply.started": "2023-12-02T22:49:58.800963Z"
    }
   },
   "outputs": [
    {
     "name": "stdout",
     "output_type": "stream",
     "text": [
      "Confusion Matrix:\n",
      "[[9 0 2]\n",
      " [1 1 0]\n",
      " [1 2 4]]\n"
     ]
    }
   ],
   "source": [
    "from sklearn.metrics import confusion_matrix\n",
    "\n",
    "# Displaying the confusion matrix\n",
    "cmatrix = confusion_matrix(y_test, y_pred_1)\n",
    "print(\"Confusion Matrix:\")\n",
    "print(cmatrix)"
   ]
  },
  {
   "cell_type": "code",
   "execution_count": 21,
   "metadata": {
    "execution": {
     "iopub.execute_input": "2023-12-02T22:49:58.816575Z",
     "iopub.status.busy": "2023-12-02T22:49:58.816181Z",
     "iopub.status.idle": "2023-12-02T22:49:58.837776Z",
     "shell.execute_reply": "2023-12-02T22:49:58.836683Z",
     "shell.execute_reply.started": "2023-12-02T22:49:58.816540Z"
    }
   },
   "outputs": [
    {
     "name": "stdout",
     "output_type": "stream",
     "text": [
      "Classification Report:\n",
      "              precision    recall  f1-score   support\n",
      "\n",
      "         Low       0.82      0.82      0.82        11\n",
      "      Medium       0.33      0.50      0.40         2\n",
      "        High       0.67      0.57      0.62         7\n",
      "\n",
      "    accuracy                           0.70        20\n",
      "   macro avg       0.61      0.63      0.61        20\n",
      "weighted avg       0.72      0.70      0.71        20\n",
      "\n"
     ]
    }
   ],
   "source": [
    "from sklearn.metrics import classification_report\n",
    "\n",
    "# Displaying the classification report\n",
    "target= ['Low', 'Medium', 'High']  \n",
    "creport = classification_report(y_test, y_pred_1, target_names=target)\n",
    "print(\"Classification Report:\")\n",
    "print(creport)"
   ]
  },
  {
   "cell_type": "code",
   "execution_count": null,
   "metadata": {},
   "outputs": [],
   "source": []
  }
 ],
 "metadata": {
  "kaggle": {
   "accelerator": "none",
   "dataSources": [
    {
     "datasetId": 3848933,
     "sourceId": 6670678,
     "sourceType": "datasetVersion"
    }
   ],
   "dockerImageVersionId": 30558,
   "isGpuEnabled": false,
   "isInternetEnabled": true,
   "language": "python",
   "sourceType": "notebook"
  },
  "kernelspec": {
   "display_name": "Python 3 (ipykernel)",
   "language": "python",
   "name": "python3"
  },
  "language_info": {
   "codemirror_mode": {
    "name": "ipython",
    "version": 3
   },
   "file_extension": ".py",
   "mimetype": "text/x-python",
   "name": "python",
   "nbconvert_exporter": "python",
   "pygments_lexer": "ipython3",
   "version": "3.9.13"
  }
 },
 "nbformat": 4,
 "nbformat_minor": 4
}
